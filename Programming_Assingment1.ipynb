{
 "cells": [
  {
   "cell_type": "code",
   "execution_count": null,
   "id": "98d4d608",
   "metadata": {},
   "outputs": [],
   "source": [
    "1.Write a Python program to print \"Hello Python\"?\n",
    "Ans - print(\"Hello Python\")\n",
    "\n",
    "2.Write a Python program to do arithmetical operations addition and division.?\n",
    "Ans \n",
    "a=int(input(\"Please enter a number a\"))\n",
    "b= int(input(\"Please enter a number b\"))\n",
    "c=a+b\n",
    "d=a/b\n",
    "print(\"Sum of Two numbers a and b is \", c)\n",
    "print(\"Dividion of two numbers a and b is \", round(d,2))\n",
    "\n",
    "3.Write a Python program to find the area of a triangle?\n",
    "Ans -\n",
    "base=int(input(\"Please enter a  base\"))\n",
    "hight= int(input(\"Please enter a height\"))\n",
    "area=0.5*base*hight\n",
    "print(\"Area of triangel\",area)\n",
    "\n",
    "4.Write a Python program to swap two variables?\n",
    "Ans \n",
    "a=int(input(\"Please enter a \"))\n",
    "b= int(input(\"Please enter b \"))\n",
    "c=a\n",
    "a=b\n",
    "b=c\n",
    "print(\"A is\",a,'\\nB is',b)\n",
    "5.Write a Python program to generate a random number?\n",
    "Ans -\n",
    "import random\n",
    "print(random.randint(1,14))\n"
   ]
  }
 ],
 "metadata": {
  "kernelspec": {
   "display_name": "Python 3 (ipykernel)",
   "language": "python",
   "name": "python3"
  },
  "language_info": {
   "codemirror_mode": {
    "name": "ipython",
    "version": 3
   },
   "file_extension": ".py",
   "mimetype": "text/x-python",
   "name": "python",
   "nbconvert_exporter": "python",
   "pygments_lexer": "ipython3",
   "version": "3.9.12"
  }
 },
 "nbformat": 4,
 "nbformat_minor": 5
}
