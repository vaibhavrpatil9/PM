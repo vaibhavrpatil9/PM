{
 "cells": [
  {
   "cell_type": "code",
   "execution_count": null,
   "id": "83e1db83",
   "metadata": {},
   "outputs": [],
   "source": [
    "1.Write a Python Program to Check if a Number is Positive, Negative or Zero?\n",
    "Ans \n",
    "a=int(input('Please enter number '))\n",
    "if a > 0:\n",
    "    print(\"Entered number\",a,\"is grater than zero\")\n",
    "elif a <0:\n",
    "    print(\"Entered number\",a,\"less than zero\")\n",
    "else:\n",
    "    print(\"Entered number is Zero\")\n",
    "    \n",
    "2.Write a Python Program to Check if a Number is Odd or Even?\n",
    "Ans\n",
    "a=int(input('Please enter number '))\n",
    "if a % 2 == 0:\n",
    "    print(\"Entered number\",a,\"is even number\")\n",
    "\n",
    "else:\n",
    "    print(\"Entered number\",a, \"is odd number\")\n",
    "\n",
    "3.Write a Python Program to Check Leap Year?\n",
    "Ans \n",
    "import calendar\n",
    "a = int(input('Please enter number '))\n",
    "if calendar.isleap(a) == True:\n",
    "    print(\"Given year\",a,'is leap year')\n",
    "else:\n",
    "    print(\"Given year\",a,'is not leap year')\n",
    "\n",
    "4.Write a Python Program to Check Prime Number?\n",
    "Ans\n",
    "a=int(input(\"Please enter a number\"))\n",
    "for i in range(2,a):\n",
    "    if a%i==0:\n",
    "        print(\"Given number\",a, 'is not a prime number')\n",
    "        break\n",
    "else:\n",
    "    print(\"Given number\",a, 'is a prime number')\n",
    "\n",
    "\n",
    "5.Write a Python Program to Print all Prime Numbers in an Interval of 1-10000?\n",
    "Ans-\n",
    "for num in range(1, 10001):\n",
    "    for i in range(2, num):\n",
    "        if num % i == 0:\n",
    "            break\n",
    "    else:\n",
    "        print(num, 'is a prime number')"
   ]
  }
 ],
 "metadata": {
  "kernelspec": {
   "display_name": "Python 3 (ipykernel)",
   "language": "python",
   "name": "python3"
  },
  "language_info": {
   "codemirror_mode": {
    "name": "ipython",
    "version": 3
   },
   "file_extension": ".py",
   "mimetype": "text/x-python",
   "name": "python",
   "nbconvert_exporter": "python",
   "pygments_lexer": "ipython3",
   "version": "3.9.12"
  }
 },
 "nbformat": 4,
 "nbformat_minor": 5
}
