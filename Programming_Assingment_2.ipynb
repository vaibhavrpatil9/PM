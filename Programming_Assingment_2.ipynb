{
 "cells": [
  {
   "cell_type": "code",
   "execution_count": null,
   "id": "442aff6e",
   "metadata": {},
   "outputs": [],
   "source": [
    "1.Write a Python program to convert kilometers to miles?\n",
    "Ans \n",
    "kilometers = int(input('Please enter a distance in kelimeters '))\n",
    "miles = 0.62137 * kilometers\n",
    "print(kilometers, 'Kilometers equal to ', miles , 'Miles')\n",
    "\n",
    "2.Write a Python program to convert Celsius to Fahrenheit?\n",
    "Ans \n",
    "Celsius  = int(input('Please enter a temperature in Celsius '))\n",
    "Fahrenheit = (1.8 * Celsius) + 32\n",
    "print(Celsius, 'Celsius equal to ', Fahrenheit , 'Fahrenheit')\n",
    "\n",
    "3.Write a Python program to display calendar?\n",
    "Ans\n",
    "import calendar\n",
    "yy=2022\n",
    "print(calendar.calendar(yy))\n",
    "\n",
    "4.Write a Python program to solve quadratic equation?\n",
    "Ans -\n",
    "import cmath\n",
    "a=int(input(\"Please enter number a \"))\n",
    "b=int(input(\"Please enter number b \"))\n",
    "c=int(input(\"Please enter number c \"))\n",
    "dis = (b**2) - (4 * a*c)\n",
    "ans1 = (-b-cmath.sqrt(dis))/(2 * a)\n",
    "ans2 = (-b + cmath.sqrt(dis))/(2 * a)\n",
    "print('The roots are')\n",
    "print(ans1)\n",
    "print(ans2)\n",
    "5.Write a Python program to swap two variables without temp variable?\n",
    "Ans \n",
    "a=int(input(\"Please enter number a \"))\n",
    "b=int(input(\"Please enter number b \"))\n",
    "a,b=b,a\n",
    "print('A is',a,'\\nB is',b)"
   ]
  }
 ],
 "metadata": {
  "kernelspec": {
   "display_name": "Python 3 (ipykernel)",
   "language": "python",
   "name": "python3"
  },
  "language_info": {
   "codemirror_mode": {
    "name": "ipython",
    "version": 3
   },
   "file_extension": ".py",
   "mimetype": "text/x-python",
   "name": "python",
   "nbconvert_exporter": "python",
   "pygments_lexer": "ipython3",
   "version": "3.9.12"
  }
 },
 "nbformat": 4,
 "nbformat_minor": 5
}
